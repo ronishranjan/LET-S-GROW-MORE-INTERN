{
  "nbformat": 4,
  "nbformat_minor": 0,
  "metadata": {
    "colab": {
      "provenance": [],
      "authorship_tag": "ABX9TyPRffJkDN8BJnFwnDQxg7YZ",
      "include_colab_link": true
    },
    "kernelspec": {
      "name": "python3",
      "display_name": "Python 3"
    },
    "language_info": {
      "name": "python"
    }
  },
  "cells": [
    {
      "cell_type": "markdown",
      "metadata": {
        "id": "view-in-github",
        "colab_type": "text"
      },
      "source": [
        "<a href=\"https://colab.research.google.com/github/ronishranjan/LET-S-GROW-MORE-INTERN/blob/main/stockmarket_price_of_netfilx.ipynb\" target=\"_parent\"><img src=\"https://colab.research.google.com/assets/colab-badge.svg\" alt=\"Open In Colab\"/></a>"
      ]
    },
    {
      "cell_type": "code",
      "execution_count": 5,
      "metadata": {
        "id": "qB3sQQasrMEq"
      },
      "outputs": [],
      "source": [
        "#!/usr/bin/env python\n",
        "# coding: utf-8\n",
        "\n",
        "# # Importing Libraries\n"
      ]
    },
    {
      "cell_type": "code",
      "source": [
        "import numpy as np\n",
        "import pandas as pd\n",
        "from sklearn.preprocessing import MinMaxScaler\n",
        "import matplotlib.pyplot as plt"
      ],
      "metadata": {
        "id": "8QO_mrfXsK_b"
      },
      "execution_count": 6,
      "outputs": []
    },
    {
      "cell_type": "code",
      "source": [
        "import torch\n",
        "import torch.nn as nn"
      ],
      "metadata": {
        "id": "zTkShpEmtEEn"
      },
      "execution_count": 7,
      "outputs": []
    },
    {
      "cell_type": "code",
      "source": [
        "import pandas as pd\n",
        "\n"
      ],
      "metadata": {
        "id": "ot6z8BMRtH4B"
      },
      "execution_count": 10,
      "outputs": []
    },
    {
      "cell_type": "code",
      "source": [
        "import os\n",
        "os.listdir(\"/content/\")\n"
      ],
      "metadata": {
        "colab": {
          "base_uri": "https://localhost:8080/"
        },
        "id": "XPXB8Q5uuCOB",
        "outputId": "11d96e7f-8e6a-4a81-9741-7cd5754d943a"
      },
      "execution_count": 15,
      "outputs": [
        {
          "output_type": "execute_result",
          "data": {
            "text/plain": [
              "['.config', 'netflix.csv', 'sample_data']"
            ]
          },
          "metadata": {},
          "execution_count": 15
        }
      ]
    },
    {
      "cell_type": "code",
      "source": [
        "import pandas as pd\n",
        "\n",
        "# Read the uploaded CSV file\n",
        "df = pd.read_csv(\"/content/netflix.csv\")\n",
        "\n",
        "closed_prices = df[\"Close\"]\n"
      ],
      "metadata": {
        "id": "g6r5WpIxu6fG"
      },
      "execution_count": 16,
      "outputs": []
    },
    {
      "cell_type": "code",
      "source": [
        "seq_len = 15"
      ],
      "metadata": {
        "id": "wxDIdFTivbBZ"
      },
      "execution_count": 17,
      "outputs": []
    },
    {
      "cell_type": "code",
      "source": [
        "mm = MinMaxScaler()\n",
        "scaled_price = mm.fit_transform(np.array(closed_prices)[... , None]).squeeze()\n"
      ],
      "metadata": {
        "id": "IT8ohqPavi7J"
      },
      "execution_count": 18,
      "outputs": []
    },
    {
      "cell_type": "code",
      "source": [
        "X=[]\n",
        "Y=[]\n"
      ],
      "metadata": {
        "id": "cbrWVD9SvnV7"
      },
      "execution_count": 19,
      "outputs": []
    },
    {
      "cell_type": "code",
      "source": [
        "for i in range(len(scaled_price) - seq_len):\n",
        "    X.append(scaled_price[i : i+ seq_len])\n",
        "    Y.append(scaled_price[i+seq_len])\n"
      ],
      "metadata": {
        "id": "AjQyRpT6vsRc"
      },
      "execution_count": 20,
      "outputs": []
    },
    {
      "cell_type": "code",
      "source": [
        "X = np.array(X)[... , None]\n",
        "Y = np.array(Y)[... ,None]"
      ],
      "metadata": {
        "id": "2Budk7s2vvtF"
      },
      "execution_count": 21,
      "outputs": []
    },
    {
      "cell_type": "code",
      "source": [
        "train_x = torch.from_numpy(X[:int(0.8*X.shape[0])]).float()\n",
        "train_y = torch.from_numpy(Y[:int(0.8*Y.shape[0])]).float()\n",
        "test_x = torch.from_numpy(X[:int(0.8*X.shape[0])]).float()\n",
        "test_y = torch.from_numpy(Y[:int(0.8*Y.shape[0])]).float()"
      ],
      "metadata": {
        "id": "b-7XQ_6Bv0MW"
      },
      "execution_count": 22,
      "outputs": []
    },
    {
      "cell_type": "code",
      "source": [
        "class Model(nn.Module):\n",
        "    def __init__(self,input_size,hidden_size):\n",
        "        super().__init__()\n",
        "        self.lstm = nn.LSTM(input_size , hidden_size,batch_first=True)\n",
        "        self.fc=nn.Linear(hidden_size, 1)\n",
        "    def forward(self , x):\n",
        "        output,(hidden,cell)=self.lstm(x)\n",
        "        return self.fc(hidden[-1,:])"
      ],
      "metadata": {
        "id": "0NagFfcGv4x-"
      },
      "execution_count": 23,
      "outputs": []
    },
    {
      "cell_type": "code",
      "source": [
        "model = Model(1,64)"
      ],
      "metadata": {
        "id": "porQhZ0Sv9U4"
      },
      "execution_count": 24,
      "outputs": []
    },
    {
      "cell_type": "code",
      "source": [
        "optimizer=torch.optim.Adam(model.parameters(), lr=0.001)"
      ],
      "metadata": {
        "id": "c4i9trPTwDs_"
      },
      "execution_count": 25,
      "outputs": []
    },
    {
      "cell_type": "code",
      "source": [
        "loss_fn = nn.MSELoss()"
      ],
      "metadata": {
        "id": "ysZhh7KVwKM5"
      },
      "execution_count": 26,
      "outputs": []
    },
    {
      "cell_type": "code",
      "source": [
        "num_epochs=100"
      ],
      "metadata": {
        "id": "L1D4gbgBwOE4"
      },
      "execution_count": 27,
      "outputs": []
    },
    {
      "cell_type": "code",
      "source": [
        "for epoch in range(num_epochs):\n",
        "    output = model(train_x)\n",
        "    loss=loss_fn(output,train_y)\n",
        "\n",
        "    optimizer.zero_grad()\n",
        "    loss.backward()\n",
        "    optimizer.step()\n",
        "\n",
        "    if epoch % 10==0 and epoch !=0:\n",
        "        print(epoch , \"epoch loss\", loss.detach().numpy())"
      ],
      "metadata": {
        "colab": {
          "base_uri": "https://localhost:8080/"
        },
        "id": "rG2XkVtlwUAb",
        "outputId": "35adc30c-c5dd-43af-a476-a274d24d871d"
      },
      "execution_count": 32,
      "outputs": [
        {
          "output_type": "stream",
          "name": "stdout",
          "text": [
            "10 epoch loss 2.0503063e-05\n",
            "20 epoch loss 1.9460227e-05\n",
            "30 epoch loss 1.8934892e-05\n",
            "40 epoch loss 1.8655011e-05\n",
            "50 epoch loss 1.8493447e-05\n",
            "60 epoch loss 1.8391947e-05\n",
            "70 epoch loss 1.8323706e-05\n",
            "80 epoch loss 1.8274222e-05\n",
            "90 epoch loss 1.823518e-05\n"
          ]
        }
      ]
    },
    {
      "cell_type": "code",
      "source": [
        "model.eval()\n",
        "with torch.no_grad():\n",
        "    output=model(test_x)"
      ],
      "metadata": {
        "id": "YS-kEBtYwYYY"
      },
      "execution_count": 33,
      "outputs": []
    },
    {
      "cell_type": "code",
      "source": [
        "pred=mm.inverse_transform(output.numpy())\n",
        "real=mm.inverse_transform(test_y.numpy())"
      ],
      "metadata": {
        "id": "D4JuKMb_wjk6"
      },
      "execution_count": 34,
      "outputs": []
    },
    {
      "cell_type": "code",
      "source": [
        "import matplotlib.pyplot as plt\n",
        "\n",
        "# Assuming pred and real are NumPy arrays\n",
        "plt.figure(figsize=(10, 6))\n",
        "plt.plot(real, label=\"Actual\")\n",
        "plt.plot(pred, label=\"Predicted\")\n",
        "plt.xlabel(\"Time\")\n",
        "plt.ylabel(\"Stock Price\")\n",
        "plt.title(\"Actual vs. Predicted Stock Prices\")\n",
        "plt.legend()\n",
        "plt.show()\n"
      ],
      "metadata": {
        "colab": {
          "base_uri": "https://localhost:8080/",
          "height": 564
        },
        "id": "ULPpRtVuwspV",
        "outputId": "6707eec5-6f9d-4efe-cc97-8ad5f46f1867"
      },
      "execution_count": 35,
      "outputs": [
        {
          "output_type": "display_data",
          "data": {
            "text/plain": [
              "<Figure size 1000x600 with 1 Axes>"
            ],
            "image/png": "[encoded data removed]"
          },
          "metadata": {}
        }
      ]
    },
    {
      "cell_type": "code",
      "source": [],
      "metadata": {
        "id": "u1FpKQf0xhpg"
      },
      "execution_count": null,
      "outputs": []
    }
  ]
}